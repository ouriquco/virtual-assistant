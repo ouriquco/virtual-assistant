{
 "cells": [
  {
   "cell_type": "code",
   "execution_count": null,
   "metadata": {},
   "outputs": [],
   "source": [
    "!pip install langchain\n",
    "!pip install -qU chromadb langchain-chroma\n",
    "!pip install langchain-community\n",
    "!pip install openai\n",
    "!pip install -U llama-index\n",
    "!pip install llama-parse\n",
    "!pip install gradio\n",
    "!pip install mysql-connector-python\n",
    "!pip install pymysql\n",
    "!pip install langchain_openai\n",
    "!pip install amadeus\n",
    "!pip install python-dotenv\n",
    "!pip install -qU redis\n",
    "!pip install transformers\n",
    "!brew install redis\n"
   ]
  },
  {
   "cell_type": "code",
   "execution_count": null,
   "metadata": {},
   "outputs": [],
   "source": [
    "!brew services start redis\n",
    "!python app.py --llm \"mistral\""
   ]
  },
  {
   "cell_type": "code",
   "execution_count": null,
   "metadata": {},
   "outputs": [],
   "source": [
    "!brew services stop redis"
   ]
  }
 ],
 "metadata": {
  "kernelspec": {
   "display_name": "base",
   "language": "python",
   "name": "python3"
  },
  "language_info": {
   "codemirror_mode": {
    "name": "ipython",
    "version": 3
   },
   "file_extension": ".py",
   "mimetype": "text/x-python",
   "name": "python",
   "nbconvert_exporter": "python",
   "pygments_lexer": "ipython3",
   "version": "3.12.2"
  }
 },
 "nbformat": 4,
 "nbformat_minor": 2
}
