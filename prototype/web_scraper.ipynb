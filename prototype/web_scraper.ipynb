{
 "cells": [
  {
   "cell_type": "code",
   "execution_count": null,
   "metadata": {},
   "outputs": [],
   "source": [
    "import requests\n",
    "from duckduckgo_search import DDGS\n",
    "from bs4 import BeautifulSoup"
   ]
  },
  {
   "cell_type": "code",
   "execution_count": 3,
   "metadata": {},
   "outputs": [],
   "source": [
    "def DDGS_search_links(query, num_results=5):\n",
    "    return [result['href'] for result in DDGS().text(query, max_results=num_results)]"
   ]
  },
  {
   "cell_type": "code",
   "execution_count": 4,
   "metadata": {},
   "outputs": [],
   "source": [
    "def DDGS_search(query, num_results=5):\n",
    "    results = DDGS().text(query, max_results=num_results)\n",
    "    for result in results:\n",
    "        print(f\"Title: {result['title']}\")\n",
    "        print(f\"URL: {result['href']}\")\n",
    "        print(f\"Description: {result['body']}\")\n",
    "        print(\"-\" * 80)"
   ]
  },
  {
   "cell_type": "code",
   "execution_count": null,
   "metadata": {},
   "outputs": [],
   "source": [
    "def scrape_pages(urls):\n",
    "    documents = []\n",
    "    for url in urls:\n",
    "        try:\n",
    "            response = requests.get(url, timeout=15)\n",
    "\n",
    "            if response.status_code != 200:\n",
    "                print(f\"Failed to retrieve {url}: {response.status_code}, skipping this URL.\")\n",
    "                continue\n",
    "            elif response.text == 'Access Denied':\n",
    "                print(f\"Access Denied for {url}, skipping this URL.\")   \n",
    "                continue\n",
    "            \n",
    "            soup = BeautifulSoup(response.text, 'html.parser')\n",
    "            text = ' '.join([p.get_text() for p in soup.select('p')])\n",
    "            documents.append({\n",
    "                'url': url,\n",
    "                'content': text,\n",
    "                'title': soup.title.string if soup.title else ''\n",
    "            })\n",
    "        except Exception as e:\n",
    "            print(f\"Failed {url}: {str(e)}\")\n",
    "    return documents"
   ]
  },
  {
   "cell_type": "code",
   "execution_count": 8,
   "metadata": {},
   "outputs": [
    {
     "name": "stdout",
     "output_type": "stream",
     "text": [
      "['https://www.accuweather.com/en/us/new-york/10021/weather-tomorrow/349727', 'https://www.accuweather.com/en/us/new-york/10021/weather-forecast/349727', 'https://www.easeweather.com/north-america/united-states/new-york/tomorrow', 'https://www.weather-us.com/en/new-york-usa/new-york-weather-tomorrow', 'https://www.timeanddate.com/weather/usa/new-york']\n",
      "Failed to retrieve https://www.accuweather.com/en/us/new-york/10021/weather-tomorrow/349727: 403\n",
      "Failed to retrieve https://www.accuweather.com/en/us/new-york/10021/weather-forecast/349727: 403\n",
      "Failed to retrieve https://www.weather-us.com/en/new-york-usa/new-york-weather-tomorrow: 403\n",
      "URL: https://www.easeweather.com/north-america/united-states/new-york/tomorrow\n",
      "Title: Tomorrow's Weather in New York - Hourly Forecast and Conditions\n",
      "Content: The weather tomorrow in New York will be similar like today, with max temperatures of 24°. The rain will stop, and no rain is expected in New York tomorrow. The wind tomorrow will get lighter comparing to today but still be strong and reach over 19 km/h. The weather in New York tomorrow is expected to be much warmer than usual, with a forecast temperature of 25 °F, compared to an average of 15.8 °F for April 23rd in recent years. Get accurate weather forecasts for New York, located at latitude 40.714 and longitude -74.006. Stay updated with localized weather information tailored for New York. Subscribe to receive real-time weather notifications for New York Remember to enable notifications in your browser settings to stay informed (usually at the top left corner).\n",
      "--------------------------------------------------------------------------------\n",
      "URL: https://www.timeanddate.com/weather/usa/new-york\n",
      "Title: Weather for New York, New York, USA\n",
      "Content: Clear. Feels Like: 76 °FForecast: 74 / 54 °FWind: 7 mph ↑ from West See more hour-by-hour weather 14 day forecast, day-by-dayHour-by-hour forecast for next week Overcast. 57 / 50 °FHumidity: 44%. Wind: 7 mph ↑ from North More weather last week Passing clouds. (1 hour ago) Clear. (1 hour ago) Passing clouds. (1 hour ago) More weather in USA View historic weather 74 / 54 °F 70 / 54 °F 70 / 52 °F 71 / 51 °F 65 / 46 °F 71 / 50 °F 82 / 54 °F 81 / 66 °F 83 / 68 °F 79 / 64 °F 75 / 59 °F 77 / 59 °F 77 / 60 °F 62 / 55 °F 62 / 51 °F Detailed forecast for 14 days  Need some help? © Time and Date AS 1995–2025 \n",
      " © Time and Date AS 1995–2025. \n",
      " Privacy & Terms\n",
      "\n",
      "--------------------------------------------------------------------------------\n"
     ]
    }
   ],
   "source": [
    "test_query = \"what is the weather like in New York tomorrow\"\n",
    "result_links = DDGS_search_links(test_query,5)\n",
    "\n",
    "print(result_links)\n",
    "\n",
    "documents = scrape_pages(result_links)\n",
    "\n",
    "for i, doc in enumerate(documents):\n",
    "    print(f\"URL: {doc['url']}\")\n",
    "    print(f\"Title: {doc['title']}\")\n",
    "    print(f\"Content: {doc['content']}\")  # Print first 100 characters\n",
    "    print(\"-\" * 80)\n",
    "\n",
    "    # write to text file\n",
    "    with open(f'./documents/output{i}.txt', 'a', encoding='utf-8') as f:\n",
    "        f.write(f\"Title: {doc['title']}\\n\")\n",
    "        f.write(f\"Content: {doc['content']}\\n\")  # Print first 100 characters"
   ]
  }
 ],
 "metadata": {
  "kernelspec": {
   "display_name": "base",
   "language": "python",
   "name": "python3"
  },
  "language_info": {
   "codemirror_mode": {
    "name": "ipython",
    "version": 3
   },
   "file_extension": ".py",
   "mimetype": "text/x-python",
   "name": "python",
   "nbconvert_exporter": "python",
   "pygments_lexer": "ipython3",
   "version": "3.12.2"
  }
 },
 "nbformat": 4,
 "nbformat_minor": 2
}
