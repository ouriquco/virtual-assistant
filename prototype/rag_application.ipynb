{
 "cells": [
  {
   "cell_type": "code",
   "execution_count": 23,
   "metadata": {},
   "outputs": [
    {
     "name": "stdout",
     "output_type": "stream",
     "text": [
      "Started parsing the file under job_id bc580c36-86d5-43f9-8bd8-40b6ee4f7322\n",
      "Started parsing the file under job_id 16087b28-931b-4365-8bd1-b1fd86eb8cfc\n",
      "Started parsing the file under job_id d0537435-1be6-48ff-ab92-1955d83974bc\n",
      "Started parsing the file under job_id 0bf63e2f-38cb-4883-b684-0cd06068a535\n",
      "Started parsing the file under job_id 370771bf-2b06-4a0c-851f-594015047310\n",
      "Title: Weather tomorrow - New York, NY\n",
      "Content:\n",
      "Title: Tomorrow's Weather in New York - Hourly Forecast and Conditions\n",
      "Content: The weather tomorrow in New York will be much hotter than today, with\n",
      "temperatures raising to 24°. The rain will visit again tomorrow in New York and\n",
      "the expected precipitation are 11 mm. The wind tomorrow will get lighter\n",
      "comparing to today but still be strong and reach over 24 km/h. The weather in\n",
      "New York tomorrow is expected to be much warmer than usual, with a forecast\n",
      "temperature  of 24 °F, compared to an average of 16.8 °F for April 22nd in recent\n",
      "years. Get accurate weather forecasts for New York, located at latitude 40.714\n",
      "and longitude -74.006. Stay updated with localized weather information tailored\n",
      "for New York. Subscribe to receive real-time weather notifications for New York\n",
      "Remember to  enable notifications in your browser settings to stay informed\n",
      "(usually at  the top left corner).\n",
      "Title: Access Denied\n",
      "Content:\n",
      "Reference #18.9a5ed617.1745215045.321a1d78\n",
      "https://errors.edgesuite.net/18.9a5ed617.1745215045.321a1d78\n",
      " https://errors.edgesuite.net/18.9a5ed617.1745215045.321a1d78\n",
      "Title: Access Denied\n",
      "Content:\n",
      "Reference #18.9a5ed617.1745215045.321a1d35\n",
      "https://errors.edgesuite.net/18.9a5ed617.1745215045.321a1d35\n",
      " https://errors.edgesuite.net/18.9a5ed617.1745215045.321a1d35\n",
      "Title: Weather for New York, New York, USA\n",
      "Content: Clear. Feels Like: 54 °FForecast: 56 / 48 °FWind: 6 mph ↑ from East See\n",
      "more hour-by-hour weather 14 day forecast, day-by-dayHour-by-hour forecast for\n",
      "next week Sunny. 73 / 55    °FHumidity: 33%. Wind: 6 mph ↑ from North More weather\n",
      "last week Passing clouds. (1 hour ago) Clear. (1 hour ago) Passing clouds. (1\n",
      "hour ago) More weather in USA View historic weather 56 / 48    °F 77 / 53 °F 74 /\n",
      "54  °F 73 / 53  °F 66 / 53  °F 70 / 51  °F 68 / 44 °F 69 / 48  °F 73 / 54 °F 74 /\n",
      "58  °F 73 / 60  °F 75 / 57  °F 72 / 55  °F 68 / 54 °F 69 / 55  °F Detailed forecast\n",
      "for 14 days      Need some help? © Time and Date AS 1995–2025\n",
      " © Time and Date AS 1995–2025.\n",
      " Privacy & Terms\n"
     ]
    }
   ],
   "source": [
    "import nest_asyncio\n",
    "from llama_parse import LlamaParse\n",
    "from langchain.text_splitter import RecursiveCharacterTextSplitter\n",
    "from langchain_core.documents import Document\n",
    "from langchain.vectorstores import Chroma\n",
    "from langchain_huggingface import HuggingFaceEmbeddings\n",
    "from langchain_ollama import ChatOllama\n",
    "from langchain.chains.combine_documents import create_stuff_documents_chain\n",
    "from langchain.chains import create_retrieval_chain \n",
    "from langchain_core.prompts import ChatPromptTemplate\n",
    "import os\n",
    "\n",
    "nest_asyncio.apply()\n",
    "\n",
    "parser = LlamaParse(\n",
    "    api_key=\"llx-IBqi6PPOIgiAGYgzczvLV3e4EKgNVgENHwzFMHRHLUXyke4o\",\n",
    "    result_type = \"text\",\n",
    "    verbose=True,\n",
    "    language = \"en\"\n",
    ")\n",
    "\n",
    "relative_path = \"documents\"\n",
    "current_working_directory = os.getcwd()\n",
    "dirctory = os.path.join(current_working_directory, relative_path)\n",
    "\n",
    "# list full path of all files in the directory\n",
    "files = [os.path.join(dirctory, file) for file in os.listdir(dirctory)]\n",
    "\n",
    "documents = [parser.load_data(file_path=file) for file in files]\n",
    "\n",
    "for doc in documents:\n",
    "    print(doc[0].text)  \n"
   ]
  },
  {
   "cell_type": "code",
   "execution_count": 25,
   "metadata": {},
   "outputs": [
    {
     "name": "stdout",
     "output_type": "stream",
     "text": [
      "Data 0:\n",
      "Title: Weather tomorrow - New York, NY\n",
      "Content:\n",
      "Data 0:\n",
      "Title: Tomorrow's Weather in New York - Hourly Forecast and Conditions\n",
      "Content: The weather tomorrow in New York will be much hotter than today, with\n",
      "temperatures raising to 24°. The rain will visit again tomorrow in New York and\n",
      "the expected precipitation are 11 mm. The wind tomorrow will get lighter\n",
      "comparing to today but still be strong and reach over 24 km/h. The weather in\n",
      "New York tomorrow is expected to be much warmer than usual, with a forecast\n",
      "temperature  of 24 °F, compared to an average of 16.8 °F for April 22nd in recent\n",
      "years. Get accurate weather forecasts for New York, located at latitude 40.714\n",
      "and longitude -74.006. Stay updated with localized weather information tailored\n",
      "for New York. Subscribe to receive real-time weather notifications for New York\n",
      "Remember to  enable notifications in your browser settings to stay informed\n",
      "(usually at  the top left corner).\n",
      "Data 0:\n",
      "Title: Access Denied\n",
      "Content:\n",
      "Reference #18.9a5ed617.1745215045.321a1d78\n",
      "https://errors.edgesuite.net/18.9a5ed617.1745215045.321a1d78\n",
      " https://errors.edgesuite.net/18.9a5ed617.1745215045.321a1d78\n",
      "Data 0:\n",
      "Title: Access Denied\n",
      "Content:\n",
      "Reference #18.9a5ed617.1745215045.321a1d35\n",
      "https://errors.edgesuite.net/18.9a5ed617.1745215045.321a1d35\n",
      " https://errors.edgesuite.net/18.9a5ed617.1745215045.321a1d35\n",
      "Data 0:\n",
      "Title: Weather for New York, New York, USA\n",
      "Content: Clear. Feels Like: 54 °FForecast: 56 / 48 °FWind: 6 mph ↑ from East See\n",
      "more hour-by-hour weather 14 day forecast, day-by-dayHour-by-hour forecast for\n",
      "next week Sunny. 73 / 55    °FHumidity: 33%. Wind: 6 mph ↑ from North More weather\n",
      "last week Passing clouds. (1 hour ago) Clear. (1 hour ago) Passing clouds. (1\n",
      "hour ago) More weather in USA View historic weather 56 / 48    °F 77 / 53 °F 74 /\n",
      "54  °F 73 / 53  °F 66 / 53  °F 70 / 51  °F 68 / 44 °F 69 / 48  °F 73 / 54 °F 74 /\n",
      "58  °F 73 / 60  °F 75 / 57  °F 72 / 55  °F 68 / 54 °F 69 / 55  °F Detailed forecast\n",
      "for 14 days      Need some help? © Time and Date AS 1995–2025\n",
      " © Time and Date AS 1995–2025.\n",
      " Privacy & Terms\n"
     ]
    }
   ],
   "source": [
    "partitions = []\n",
    "for doc in documents:\n",
    "    for i, data in enumerate(doc):\n",
    "        print(f\"Data {i}:\")\n",
    "        print(data.text)\n",
    "        d = Document(page_content=data.text, metadata={\"source\": f\"data_{i}\"})\n",
    "        partitions.append(d)\n",
    "\n",
    "text_splitter = RecursiveCharacterTextSplitter(\n",
    "    chunk_size=1000, \n",
    "    chunk_overlap=100,  \n",
    "    separators=[\"\\n\\n\", \"\\n\", \" \", \"\"], \n",
    ")\n",
    "\n",
    "chunks = text_splitter.split_documents(partitions)"
   ]
  },
  {
   "cell_type": "code",
   "execution_count": 26,
   "metadata": {},
   "outputs": [
    {
     "data": {
      "text/plain": [
       "['chunk_0', 'chunk_1', 'chunk_2', 'chunk_3', 'chunk_4']"
      ]
     },
     "execution_count": 26,
     "metadata": {},
     "output_type": "execute_result"
    }
   ],
   "source": [
    "embedding_model = HuggingFaceEmbeddings(model_name=\"sentence-transformers/all-MiniLM-L6-v2\")\n",
    "\n",
    "persist_directory = \"./c_db\"\n",
    "# persist_directory = \"./nvidia_db\"\n",
    "try:\n",
    "    vectorstore = Chroma(\n",
    "        persist_directory=persist_directory,\n",
    "        collection_name=\"document_chunks\",\n",
    "        embedding_function=embedding_model\n",
    "    )\n",
    "except ValueError:\n",
    "    vectorstore.reset()\n",
    "vectorstore.persist()  \n",
    "\n",
    "vectorstore.add_documents(chunks, ids=[f\"chunk_{i}\" for i in range(len(chunks))])"
   ]
  },
  {
   "cell_type": "code",
   "execution_count": 37,
   "metadata": {},
   "outputs": [],
   "source": [
    "vectorstore = Chroma(\n",
    "    persist_directory=persist_directory,\n",
    "    collection_name=\"document_chunks\",\n",
    "    embedding_function=embedding_model\n",
    ")\n",
    "\n",
    "# Use as retriever in LangChain\n",
    "retriever = vectorstore.as_retriever(search_kwargs={\"k\": 5})"
   ]
  },
  {
   "cell_type": "code",
   "execution_count": 35,
   "metadata": {},
   "outputs": [
    {
     "name": "stdout",
     "output_type": "stream",
     "text": [
      "3\n",
      "\n",
      "--- Result 1 ---\n",
      "\n",
      "Title: Tomorrow's Weather in New York - Hourly Forecast and Conditions\n",
      "Content: The weather tomorrow in New York will be much hotter than today, with\n",
      "temperatures raising to 24°. The rain will visit again tomorrow in New York and\n",
      "the expected precipitation are 11 mm. The wind tomorrow will get lighter\n",
      "comparing to today but still be strong and reach over 24 km/h. The weather in\n",
      "New York tomorrow is expected to be much warmer than usual, with a forecast\n",
      "temperature  of 24 °F, compared to an average of 16.8 °F for April 22nd in recent\n",
      "years. Get accurate weather forecasts for New York, located at latitude 40.714\n",
      "and longitude -74.006. Stay updated with localized weather information tailored\n",
      "for New York. Subscribe to receive real-time weather notifications for New York\n",
      "Remember to  enable notifications in your browser settings to stay informed\n",
      "(usually at  the top left corner).\n",
      "\n",
      "--- Result 2 ---\n",
      "\n",
      "Title: Weather tomorrow - New York, NY\n",
      "Content:\n",
      "\n",
      "--- Result 3 ---\n",
      "\n",
      "Title: Weather for New York, New York, USA\n",
      "Content: Clear. Feels Like: 54 °FForecast: 56 / 48 °FWind: 6 mph ↑ from East See\n",
      "more hour-by-hour weather 14 day forecast, day-by-dayHour-by-hour forecast for\n",
      "next week Sunny. 73 / 55    °FHumidity: 33%. Wind: 6 mph ↑ from North More weather\n",
      "last week Passing clouds. (1 hour ago) Clear. (1 hour ago) Passing clouds. (1\n",
      "hour ago) More weather in USA View historic weather 56 / 48    °F 77 / 53 °F 74 /\n",
      "54  °F 73 / 53  °F 66 / 53  °F 70 / 51  °F 68 / 44 °F 69 / 48  °F 73 / 54 °F 74 /\n",
      "58  °F 73 / 60  °F 75 / 57  °F 72 / 55  °F 68 / 54 °F 69 / 55  °F Detailed forecast\n",
      "for 14 days      Need some help? © Time and Date AS 1995–2025\n",
      " © Time and Date AS 1995–2025.\n",
      " Privacy & Terms\n"
     ]
    }
   ],
   "source": [
    "query = \"What is the weather in New York tomorrow?\"\n",
    "\n",
    "# Perform similarity search\n",
    "similar_docs = vectorstore.similarity_search(query, k=3)  # return top 3 relevant chunks\n",
    "print(len(similar_docs))\n",
    "# Display the retrieved results\n",
    "for i, doc in enumerate(similar_docs, 1):\n",
    "    print(f\"\\n--- Result {i} ---\\n\")\n",
    "    print(doc.page_content)"
   ]
  },
  {
   "cell_type": "code",
   "execution_count": 38,
   "metadata": {},
   "outputs": [
    {
     "name": "stdout",
     "output_type": "stream",
     "text": [
      "NA\n"
     ]
    }
   ],
   "source": [
    "llm = ChatOllama(\n",
    "    model=\"llama3\",\n",
    "    temperature=0.2 \n",
    ")\n",
    "\n",
    "system_prompt = (\"\"\"Answer the question based on the provided guidelines and given context.\n",
    "**Guidelines:**\n",
    "- For numerical answers (e.g., metrics, scores), provide only the value.\n",
    "- For yes/no questions, answer strictly with \"Yes\" or \"No\".\n",
    "- If no relevant context exists, state \"NA\".\"\n",
    "\"Context: {context}\"\"\"\n",
    ")\n",
    "\n",
    "prompt = ChatPromptTemplate.from_messages(\n",
    "    [\n",
    "        (\"system\", system_prompt),\n",
    "        (\"human\", \"{input}\"),\n",
    "    ]\n",
    ")\n",
    "\n",
    "question_answer_chain = create_stuff_documents_chain(llm, prompt)\n",
    "chain = create_retrieval_chain(retriever, question_answer_chain)\n",
    "\n",
    "query = \"What is UniAD Backbone?\"\n",
    "response = chain.invoke({\"input\": query})\n",
    "\n",
    "print(response.get('answer'))"
   ]
  }
 ],
 "metadata": {
  "kernelspec": {
   "display_name": "base",
   "language": "python",
   "name": "python3"
  },
  "language_info": {
   "codemirror_mode": {
    "name": "ipython",
    "version": 3
   },
   "file_extension": ".py",
   "mimetype": "text/x-python",
   "name": "python",
   "nbconvert_exporter": "python",
   "pygments_lexer": "ipython3",
   "version": "3.12.2"
  }
 },
 "nbformat": 4,
 "nbformat_minor": 2
}
